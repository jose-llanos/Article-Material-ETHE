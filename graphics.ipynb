{
 "cells": [
  {
   "attachments": {},
   "cell_type": "markdown",
   "metadata": {},
   "source": [
    "#### Import libraries"
   ]
  },
  {
   "cell_type": "code",
   "execution_count": 1,
   "metadata": {},
   "outputs": [],
   "source": [
    "# Library for mathematical processes\n",
    "import numpy as np\n",
    "# Data management library\n",
    "import pandas as pd\n",
    "# Library for graphics\n",
    "import matplotlib.pyplot as plt\n",
    "# Library for calculating the statistical significance and correlation coefficient\n",
    "from scipy import stats"
   ]
  },
  {
   "attachments": {},
   "cell_type": "markdown",
   "metadata": {},
   "source": [
    "#### Load group data"
   ]
  },
  {
   "cell_type": "code",
   "execution_count": 2,
   "metadata": {},
   "outputs": [
    {
     "data": {
      "text/html": [
       "<div>\n",
       "<style scoped>\n",
       "    .dataframe tbody tr th:only-of-type {\n",
       "        vertical-align: middle;\n",
       "    }\n",
       "\n",
       "    .dataframe tbody tr th {\n",
       "        vertical-align: top;\n",
       "    }\n",
       "\n",
       "    .dataframe thead th {\n",
       "        text-align: right;\n",
       "    }\n",
       "</style>\n",
       "<table border=\"1\" class=\"dataframe\">\n",
       "  <thead>\n",
       "    <tr style=\"text-align: right;\">\n",
       "      <th></th>\n",
       "      <th>students</th>\n",
       "      <th>final_grade</th>\n",
       "      <th>percentage_attendance_group_tutoring</th>\n",
       "      <th>percentage_exercises_workshops_reinforcement</th>\n",
       "    </tr>\n",
       "  </thead>\n",
       "  <tbody>\n",
       "    <tr>\n",
       "      <th>0</th>\n",
       "      <td>STUDENT 1</td>\n",
       "      <td>3.0</td>\n",
       "      <td>36</td>\n",
       "      <td>100</td>\n",
       "    </tr>\n",
       "    <tr>\n",
       "      <th>1</th>\n",
       "      <td>STUDENT 2</td>\n",
       "      <td>3.1</td>\n",
       "      <td>54</td>\n",
       "      <td>88</td>\n",
       "    </tr>\n",
       "    <tr>\n",
       "      <th>2</th>\n",
       "      <td>STUDENT 3</td>\n",
       "      <td>3.9</td>\n",
       "      <td>45</td>\n",
       "      <td>100</td>\n",
       "    </tr>\n",
       "    <tr>\n",
       "      <th>3</th>\n",
       "      <td>STUDENT 4</td>\n",
       "      <td>3.7</td>\n",
       "      <td>45</td>\n",
       "      <td>100</td>\n",
       "    </tr>\n",
       "    <tr>\n",
       "      <th>4</th>\n",
       "      <td>STUDENT 5</td>\n",
       "      <td>4.6</td>\n",
       "      <td>54</td>\n",
       "      <td>100</td>\n",
       "    </tr>\n",
       "    <tr>\n",
       "      <th>5</th>\n",
       "      <td>STUDENT 6</td>\n",
       "      <td>3.1</td>\n",
       "      <td>18</td>\n",
       "      <td>44</td>\n",
       "    </tr>\n",
       "    <tr>\n",
       "      <th>6</th>\n",
       "      <td>STUDENT 7</td>\n",
       "      <td>3.7</td>\n",
       "      <td>36</td>\n",
       "      <td>100</td>\n",
       "    </tr>\n",
       "    <tr>\n",
       "      <th>7</th>\n",
       "      <td>STUDENT 8</td>\n",
       "      <td>4.6</td>\n",
       "      <td>45</td>\n",
       "      <td>100</td>\n",
       "    </tr>\n",
       "    <tr>\n",
       "      <th>8</th>\n",
       "      <td>STUDENT 9</td>\n",
       "      <td>2.3</td>\n",
       "      <td>18</td>\n",
       "      <td>33</td>\n",
       "    </tr>\n",
       "    <tr>\n",
       "      <th>9</th>\n",
       "      <td>STUDENT 10</td>\n",
       "      <td>2.3</td>\n",
       "      <td>0</td>\n",
       "      <td>0</td>\n",
       "    </tr>\n",
       "    <tr>\n",
       "      <th>10</th>\n",
       "      <td>STUDENT 11</td>\n",
       "      <td>4.2</td>\n",
       "      <td>36</td>\n",
       "      <td>100</td>\n",
       "    </tr>\n",
       "    <tr>\n",
       "      <th>11</th>\n",
       "      <td>STUDENT 12</td>\n",
       "      <td>3.1</td>\n",
       "      <td>36</td>\n",
       "      <td>100</td>\n",
       "    </tr>\n",
       "    <tr>\n",
       "      <th>12</th>\n",
       "      <td>STUDENT 13</td>\n",
       "      <td>4.1</td>\n",
       "      <td>45</td>\n",
       "      <td>100</td>\n",
       "    </tr>\n",
       "    <tr>\n",
       "      <th>13</th>\n",
       "      <td>STUDENT 14</td>\n",
       "      <td>4.0</td>\n",
       "      <td>27</td>\n",
       "      <td>0</td>\n",
       "    </tr>\n",
       "    <tr>\n",
       "      <th>14</th>\n",
       "      <td>STUDENT 15</td>\n",
       "      <td>1.9</td>\n",
       "      <td>45</td>\n",
       "      <td>100</td>\n",
       "    </tr>\n",
       "    <tr>\n",
       "      <th>15</th>\n",
       "      <td>STUDENT 16</td>\n",
       "      <td>3.5</td>\n",
       "      <td>27</td>\n",
       "      <td>0</td>\n",
       "    </tr>\n",
       "    <tr>\n",
       "      <th>16</th>\n",
       "      <td>STUDENT 17</td>\n",
       "      <td>3.3</td>\n",
       "      <td>36</td>\n",
       "      <td>100</td>\n",
       "    </tr>\n",
       "    <tr>\n",
       "      <th>17</th>\n",
       "      <td>STUDENT 18</td>\n",
       "      <td>4.7</td>\n",
       "      <td>45</td>\n",
       "      <td>66</td>\n",
       "    </tr>\n",
       "    <tr>\n",
       "      <th>18</th>\n",
       "      <td>STUDENT 19</td>\n",
       "      <td>4.3</td>\n",
       "      <td>27</td>\n",
       "      <td>100</td>\n",
       "    </tr>\n",
       "    <tr>\n",
       "      <th>19</th>\n",
       "      <td>STUDENT 20</td>\n",
       "      <td>4.4</td>\n",
       "      <td>27</td>\n",
       "      <td>100</td>\n",
       "    </tr>\n",
       "    <tr>\n",
       "      <th>20</th>\n",
       "      <td>STUDENT 21</td>\n",
       "      <td>4.1</td>\n",
       "      <td>45</td>\n",
       "      <td>66</td>\n",
       "    </tr>\n",
       "    <tr>\n",
       "      <th>21</th>\n",
       "      <td>STUDENT 22</td>\n",
       "      <td>4.5</td>\n",
       "      <td>27</td>\n",
       "      <td>100</td>\n",
       "    </tr>\n",
       "    <tr>\n",
       "      <th>22</th>\n",
       "      <td>STUDENT 23</td>\n",
       "      <td>3.5</td>\n",
       "      <td>9</td>\n",
       "      <td>88</td>\n",
       "    </tr>\n",
       "    <tr>\n",
       "      <th>23</th>\n",
       "      <td>STUDENT 24</td>\n",
       "      <td>4.2</td>\n",
       "      <td>18</td>\n",
       "      <td>100</td>\n",
       "    </tr>\n",
       "    <tr>\n",
       "      <th>24</th>\n",
       "      <td>STUDENT 25</td>\n",
       "      <td>4.7</td>\n",
       "      <td>27</td>\n",
       "      <td>100</td>\n",
       "    </tr>\n",
       "    <tr>\n",
       "      <th>25</th>\n",
       "      <td>STUDENT 26</td>\n",
       "      <td>3.0</td>\n",
       "      <td>18</td>\n",
       "      <td>100</td>\n",
       "    </tr>\n",
       "    <tr>\n",
       "      <th>26</th>\n",
       "      <td>STUDENT 27</td>\n",
       "      <td>3.8</td>\n",
       "      <td>63</td>\n",
       "      <td>100</td>\n",
       "    </tr>\n",
       "    <tr>\n",
       "      <th>27</th>\n",
       "      <td>STUDENT 28</td>\n",
       "      <td>3.6</td>\n",
       "      <td>18</td>\n",
       "      <td>66</td>\n",
       "    </tr>\n",
       "    <tr>\n",
       "      <th>28</th>\n",
       "      <td>STUDENT 29</td>\n",
       "      <td>4.5</td>\n",
       "      <td>45</td>\n",
       "      <td>100</td>\n",
       "    </tr>\n",
       "    <tr>\n",
       "      <th>29</th>\n",
       "      <td>STUDENT 30</td>\n",
       "      <td>3.7</td>\n",
       "      <td>36</td>\n",
       "      <td>100</td>\n",
       "    </tr>\n",
       "    <tr>\n",
       "      <th>30</th>\n",
       "      <td>STUDENT 31</td>\n",
       "      <td>3.0</td>\n",
       "      <td>18</td>\n",
       "      <td>100</td>\n",
       "    </tr>\n",
       "    <tr>\n",
       "      <th>31</th>\n",
       "      <td>STUDENT 32</td>\n",
       "      <td>3.4</td>\n",
       "      <td>36</td>\n",
       "      <td>100</td>\n",
       "    </tr>\n",
       "    <tr>\n",
       "      <th>32</th>\n",
       "      <td>STUDENT 33</td>\n",
       "      <td>3.5</td>\n",
       "      <td>36</td>\n",
       "      <td>100</td>\n",
       "    </tr>\n",
       "    <tr>\n",
       "      <th>33</th>\n",
       "      <td>STUDENT 34</td>\n",
       "      <td>4.0</td>\n",
       "      <td>36</td>\n",
       "      <td>100</td>\n",
       "    </tr>\n",
       "    <tr>\n",
       "      <th>34</th>\n",
       "      <td>STUDENT 35</td>\n",
       "      <td>3.4</td>\n",
       "      <td>27</td>\n",
       "      <td>100</td>\n",
       "    </tr>\n",
       "    <tr>\n",
       "      <th>35</th>\n",
       "      <td>STUDENT 36</td>\n",
       "      <td>3.9</td>\n",
       "      <td>36</td>\n",
       "      <td>100</td>\n",
       "    </tr>\n",
       "  </tbody>\n",
       "</table>\n",
       "</div>"
      ],
      "text/plain": [
       "      students  final_grade  percentage_attendance_group_tutoring  \\\n",
       "0    STUDENT 1          3.0                                    36   \n",
       "1    STUDENT 2          3.1                                    54   \n",
       "2    STUDENT 3          3.9                                    45   \n",
       "3    STUDENT 4          3.7                                    45   \n",
       "4    STUDENT 5          4.6                                    54   \n",
       "5    STUDENT 6          3.1                                    18   \n",
       "6    STUDENT 7          3.7                                    36   \n",
       "7    STUDENT 8          4.6                                    45   \n",
       "8    STUDENT 9          2.3                                    18   \n",
       "9   STUDENT 10          2.3                                     0   \n",
       "10  STUDENT 11          4.2                                    36   \n",
       "11  STUDENT 12          3.1                                    36   \n",
       "12  STUDENT 13          4.1                                    45   \n",
       "13  STUDENT 14          4.0                                    27   \n",
       "14  STUDENT 15          1.9                                    45   \n",
       "15  STUDENT 16          3.5                                    27   \n",
       "16  STUDENT 17          3.3                                    36   \n",
       "17  STUDENT 18          4.7                                    45   \n",
       "18  STUDENT 19          4.3                                    27   \n",
       "19  STUDENT 20          4.4                                    27   \n",
       "20  STUDENT 21          4.1                                    45   \n",
       "21  STUDENT 22          4.5                                    27   \n",
       "22  STUDENT 23          3.5                                     9   \n",
       "23  STUDENT 24          4.2                                    18   \n",
       "24  STUDENT 25          4.7                                    27   \n",
       "25  STUDENT 26          3.0                                    18   \n",
       "26  STUDENT 27          3.8                                    63   \n",
       "27  STUDENT 28          3.6                                    18   \n",
       "28  STUDENT 29          4.5                                    45   \n",
       "29  STUDENT 30          3.7                                    36   \n",
       "30  STUDENT 31          3.0                                    18   \n",
       "31  STUDENT 32          3.4                                    36   \n",
       "32  STUDENT 33          3.5                                    36   \n",
       "33  STUDENT 34          4.0                                    36   \n",
       "34  STUDENT 35          3.4                                    27   \n",
       "35  STUDENT 36          3.9                                    36   \n",
       "\n",
       "    percentage_exercises_workshops_reinforcement  \n",
       "0                                            100  \n",
       "1                                             88  \n",
       "2                                            100  \n",
       "3                                            100  \n",
       "4                                            100  \n",
       "5                                             44  \n",
       "6                                            100  \n",
       "7                                            100  \n",
       "8                                             33  \n",
       "9                                              0  \n",
       "10                                           100  \n",
       "11                                           100  \n",
       "12                                           100  \n",
       "13                                             0  \n",
       "14                                           100  \n",
       "15                                             0  \n",
       "16                                           100  \n",
       "17                                            66  \n",
       "18                                           100  \n",
       "19                                           100  \n",
       "20                                            66  \n",
       "21                                           100  \n",
       "22                                            88  \n",
       "23                                           100  \n",
       "24                                           100  \n",
       "25                                           100  \n",
       "26                                           100  \n",
       "27                                            66  \n",
       "28                                           100  \n",
       "29                                           100  \n",
       "30                                           100  \n",
       "31                                           100  \n",
       "32                                           100  \n",
       "33                                           100  \n",
       "34                                           100  \n",
       "35                                           100  "
      ]
     },
     "execution_count": 2,
     "metadata": {},
     "output_type": "execute_result"
    }
   ],
   "source": [
    "group_data = pd.read_csv('data/group_data.csv', sep=\";\")\n",
    "\n",
    "group_data"
   ]
  },
  {
   "cell_type": "code",
   "execution_count": 3,
   "metadata": {},
   "outputs": [
    {
     "data": {
      "text/html": [
       "<div>\n",
       "<style scoped>\n",
       "    .dataframe tbody tr th:only-of-type {\n",
       "        vertical-align: middle;\n",
       "    }\n",
       "\n",
       "    .dataframe tbody tr th {\n",
       "        vertical-align: top;\n",
       "    }\n",
       "\n",
       "    .dataframe thead th {\n",
       "        text-align: right;\n",
       "    }\n",
       "</style>\n",
       "<table border=\"1\" class=\"dataframe\">\n",
       "  <thead>\n",
       "    <tr style=\"text-align: right;\">\n",
       "      <th></th>\n",
       "      <th>final_grade</th>\n",
       "      <th>percentage_attendance_group_tutoring</th>\n",
       "      <th>percentage_exercises_workshops_reinforcement</th>\n",
       "    </tr>\n",
       "  </thead>\n",
       "  <tbody>\n",
       "    <tr>\n",
       "      <th>count</th>\n",
       "      <td>36.000000</td>\n",
       "      <td>36.000000</td>\n",
       "      <td>36.00000</td>\n",
       "    </tr>\n",
       "    <tr>\n",
       "      <th>mean</th>\n",
       "      <td>3.683333</td>\n",
       "      <td>33.250000</td>\n",
       "      <td>84.75000</td>\n",
       "    </tr>\n",
       "    <tr>\n",
       "      <th>std</th>\n",
       "      <td>0.697137</td>\n",
       "      <td>13.404424</td>\n",
       "      <td>30.71005</td>\n",
       "    </tr>\n",
       "    <tr>\n",
       "      <th>min</th>\n",
       "      <td>1.900000</td>\n",
       "      <td>0.000000</td>\n",
       "      <td>0.00000</td>\n",
       "    </tr>\n",
       "    <tr>\n",
       "      <th>25%</th>\n",
       "      <td>3.250000</td>\n",
       "      <td>27.000000</td>\n",
       "      <td>88.00000</td>\n",
       "    </tr>\n",
       "    <tr>\n",
       "      <th>50%</th>\n",
       "      <td>3.700000</td>\n",
       "      <td>36.000000</td>\n",
       "      <td>100.00000</td>\n",
       "    </tr>\n",
       "    <tr>\n",
       "      <th>75%</th>\n",
       "      <td>4.200000</td>\n",
       "      <td>45.000000</td>\n",
       "      <td>100.00000</td>\n",
       "    </tr>\n",
       "    <tr>\n",
       "      <th>max</th>\n",
       "      <td>4.700000</td>\n",
       "      <td>63.000000</td>\n",
       "      <td>100.00000</td>\n",
       "    </tr>\n",
       "  </tbody>\n",
       "</table>\n",
       "</div>"
      ],
      "text/plain": [
       "       final_grade  percentage_attendance_group_tutoring  \\\n",
       "count    36.000000                             36.000000   \n",
       "mean      3.683333                             33.250000   \n",
       "std       0.697137                             13.404424   \n",
       "min       1.900000                              0.000000   \n",
       "25%       3.250000                             27.000000   \n",
       "50%       3.700000                             36.000000   \n",
       "75%       4.200000                             45.000000   \n",
       "max       4.700000                             63.000000   \n",
       "\n",
       "       percentage_exercises_workshops_reinforcement  \n",
       "count                                      36.00000  \n",
       "mean                                       84.75000  \n",
       "std                                        30.71005  \n",
       "min                                         0.00000  \n",
       "25%                                        88.00000  \n",
       "50%                                       100.00000  \n",
       "75%                                       100.00000  \n",
       "max                                       100.00000  "
      ]
     },
     "execution_count": 3,
     "metadata": {},
     "output_type": "execute_result"
    }
   ],
   "source": [
    "# Statistics are generated\n",
    "group_data.describe()"
   ]
  },
  {
   "attachments": {},
   "cell_type": "markdown",
   "metadata": {},
   "source": [
    "#### Correlation of all variables for group"
   ]
  },
  {
   "cell_type": "code",
   "execution_count": 4,
   "metadata": {},
   "outputs": [
    {
     "data": {
      "text/html": [
       "<div>\n",
       "<style scoped>\n",
       "    .dataframe tbody tr th:only-of-type {\n",
       "        vertical-align: middle;\n",
       "    }\n",
       "\n",
       "    .dataframe tbody tr th {\n",
       "        vertical-align: top;\n",
       "    }\n",
       "\n",
       "    .dataframe thead th {\n",
       "        text-align: right;\n",
       "    }\n",
       "</style>\n",
       "<table border=\"1\" class=\"dataframe\">\n",
       "  <thead>\n",
       "    <tr style=\"text-align: right;\">\n",
       "      <th></th>\n",
       "      <th>final_grade</th>\n",
       "      <th>percentage_attendance_group_tutoring</th>\n",
       "      <th>percentage_exercises_workshops_reinforcement</th>\n",
       "    </tr>\n",
       "  </thead>\n",
       "  <tbody>\n",
       "    <tr>\n",
       "      <th>final_grade</th>\n",
       "      <td>1.000000</td>\n",
       "      <td>0.315279</td>\n",
       "      <td>0.227041</td>\n",
       "    </tr>\n",
       "    <tr>\n",
       "      <th>percentage_attendance_group_tutoring</th>\n",
       "      <td>0.315279</td>\n",
       "      <td>1.000000</td>\n",
       "      <td>0.336426</td>\n",
       "    </tr>\n",
       "    <tr>\n",
       "      <th>percentage_exercises_workshops_reinforcement</th>\n",
       "      <td>0.227041</td>\n",
       "      <td>0.336426</td>\n",
       "      <td>1.000000</td>\n",
       "    </tr>\n",
       "  </tbody>\n",
       "</table>\n",
       "</div>"
      ],
      "text/plain": [
       "                                              final_grade  \\\n",
       "final_grade                                      1.000000   \n",
       "percentage_attendance_group_tutoring             0.315279   \n",
       "percentage_exercises_workshops_reinforcement     0.227041   \n",
       "\n",
       "                                              percentage_attendance_group_tutoring  \\\n",
       "final_grade                                                               0.315279   \n",
       "percentage_attendance_group_tutoring                                      1.000000   \n",
       "percentage_exercises_workshops_reinforcement                              0.336426   \n",
       "\n",
       "                                              percentage_exercises_workshops_reinforcement  \n",
       "final_grade                                                                       0.227041  \n",
       "percentage_attendance_group_tutoring                                              0.336426  \n",
       "percentage_exercises_workshops_reinforcement                                      1.000000  "
      ]
     },
     "execution_count": 4,
     "metadata": {},
     "output_type": "execute_result"
    }
   ],
   "source": [
    "group_data.corr(method='spearman')"
   ]
  },
  {
   "cell_type": "code",
   "execution_count": 5,
   "metadata": {},
   "outputs": [
    {
     "data": {
      "text/plain": [
       "<matplotlib.image.AxesImage at 0x7ff277f68bb0>"
      ]
     },
     "execution_count": 5,
     "metadata": {},
     "output_type": "execute_result"
    },
    {
     "data": {
      "image/png": "[encoded data removed]",
      "text/plain": [
       "<Figure size 345.6x345.6 with 1 Axes>"
      ]
     },
     "metadata": {
      "needs_background": "light"
     },
     "output_type": "display_data"
    }
   ],
   "source": [
    "# Correlation matrix graph\n",
    "plt.matshow(group_data.corr())"
   ]
  },
  {
   "attachments": {},
   "cell_type": "markdown",
   "metadata": {},
   "source": [
    "#### Correlation (pearson, spearman, kendall): final grade VS percentage attendance group tutoring"
   ]
  },
  {
   "cell_type": "code",
   "execution_count": 6,
   "metadata": {},
   "outputs": [
    {
     "name": "stdout",
     "output_type": "stream",
     "text": [
      "Pearson:  0.327916280256489\n",
      "Spearman:  0.3152786011733243\n",
      "Kendall:  0.24167325432127926\n"
     ]
    }
   ],
   "source": [
    "# Correlation calculation: final grade VS group_attendance_percentage\n",
    "# ==============================================================================\n",
    "print('Pearson: ', group_data['final_grade'].corr(group_data['percentage_attendance_group_tutoring'], method='pearson'))\n",
    "print('Spearman: ', group_data['final_grade'].corr(group_data['percentage_attendance_group_tutoring'], method='spearman'))\n",
    "print('Kendall: ', group_data['final_grade'].corr(group_data['percentage_attendance_group_tutoring'], method='kendall'))"
   ]
  },
  {
   "attachments": {},
   "cell_type": "markdown",
   "metadata": {},
   "source": [
    "#### Correlation and statistical significance: final grade VS percentage attendance group tutoring"
   ]
  },
  {
   "cell_type": "code",
   "execution_count": 7,
   "metadata": {},
   "outputs": [
    {
     "name": "stdout",
     "output_type": "stream",
     "text": [
      "Pearson: r=0.3279162802564889, p-value=0.05088760986927212\n",
      "Spearman: r=0.3152786011733243, p-value=0.06106870100713267\n",
      "Kendall: r=0.24167325432127926, p-value=0.05700850576840773\n"
     ]
    }
   ],
   "source": [
    "# Correlation and significance calculation with Scipy\n",
    "# ==============================================================================\n",
    "r, p = stats.pearsonr(group_data['final_grade'], group_data['percentage_attendance_group_tutoring'])\n",
    "print(f\"Pearson: r={r}, p-value={p}\")\n",
    "\n",
    "r, p = stats.spearmanr(group_data['final_grade'], group_data['percentage_attendance_group_tutoring'])\n",
    "print(f\"Spearman: r={r}, p-value={p}\")\n",
    "\n",
    "r, p = stats.kendalltau(group_data['final_grade'], group_data['percentage_attendance_group_tutoring'])\n",
    "print(f\"Kendall: r={r}, p-value={p}\")"
   ]
  },
  {
   "attachments": {},
   "cell_type": "markdown",
   "metadata": {},
   "source": [
    "#### Correlation graph: final grade VS percentage attendance group tutoring"
   ]
  },
  {
   "cell_type": "code",
   "execution_count": 8,
   "metadata": {},
   "outputs": [
    {
     "data": {
      "image/png": "[encoded data removed]",
      "text/plain": [
       "<Figure size 720x576 with 1 Axes>"
      ]
     },
     "metadata": {
      "needs_background": "light"
     },
     "output_type": "display_data"
    }
   ],
   "source": [
    "plt.figure(figsize=(10,8))\n",
    "plt.scatter(group_data['percentage_attendance_group_tutoring'], group_data['final_grade'], label=\"Students without intervention\", c=\"blue\", s=40, marker=\"o\")\n",
    "# Intervened students\n",
    "x = [54, 18, 18, 0, 36, 27, 18, 63, 18]\n",
    "y =[3.1, 3.1, 2.3, 2.3, 3.1, 3.5, 3.0, 3.8, 3.0]\n",
    "plt.scatter(x, y, label=\"Intervened students\", c=\"red\", s=40, marker=\"o\")\n",
    "# Red line\n",
    "x = [0, 10, 20, 30, 50, 50, 60, 70, 80, 90, 100]\n",
    "y = [3, 3, 3, 3, 3, 3, 3, 3, 3, 3, 3]\n",
    "plt.plot(x, y, linestyle=\"--\", c=\"green\")\n",
    "plt.xlabel(\"% Attendance at Group Tutoring\")\n",
    "plt.xticks(range(0, 110, 10))\n",
    "plt.ylabel(\"Final Grade\")\n",
    "yrange = [0.0, 0.5, 1.0, 1.5, 2.0, 2.5, 3.0, 3.5, 4.0, 4.5, 5.0]\n",
    "plt.yticks(yrange)\n",
    "# Legend\n",
    "plt.legend(loc = \"lower right\")\n",
    "plt.grid()\n",
    "#plt.savefig('Fig4.png', bbox_inches='tight', dpi=400)\n",
    "plt.show()\n"
   ]
  },
  {
   "attachments": {},
   "cell_type": "markdown",
   "metadata": {},
   "source": [
    "#### -------------------------------------------------------\n",
    "\n",
    "#### Correlation and statistical significance: final grade VS percentage exercises workshops reinforcement"
   ]
  },
  {
   "cell_type": "code",
   "execution_count": 9,
   "metadata": {},
   "outputs": [
    {
     "name": "stdout",
     "output_type": "stream",
     "text": [
      "Pearson: r=0.28512559273416915, p-value=0.09187865835457622\n",
      "Spearman: r=0.22704121068497735, p-value=0.18297900882037313\n",
      "Kendall: r=0.18309556480110692, p-value=0.17528886701857793\n"
     ]
    }
   ],
   "source": [
    "# Correlation calculation: final_grade VS percentage_exercises_workshops_reinforcement\n",
    "# ==============================================================================\n",
    "r, p = stats.pearsonr(group_data['final_grade'], group_data['percentage_exercises_workshops_reinforcement'])\n",
    "print(f\"Pearson: r={r}, p-value={p}\")\n",
    "\n",
    "r, p = stats.spearmanr(group_data['final_grade'], group_data['percentage_exercises_workshops_reinforcement'])\n",
    "print(f\"Spearman: r={r}, p-value={p}\")\n",
    "\n",
    "r, p = stats.kendalltau(group_data['final_grade'], group_data['percentage_exercises_workshops_reinforcement'])\n",
    "print(f\"Kendall: r={r}, p-value={p}\")"
   ]
  },
  {
   "attachments": {},
   "cell_type": "markdown",
   "metadata": {},
   "source": [
    "#### Correlation graph: final grade VS percentage exercises workshops reinforcement"
   ]
  },
  {
   "cell_type": "code",
   "execution_count": 10,
   "metadata": {},
   "outputs": [
    {
     "data": {
      "image/png": "[encoded data removed]",
      "text/plain": [
       "<Figure size 720x504 with 1 Axes>"
      ]
     },
     "metadata": {
      "needs_background": "light"
     },
     "output_type": "display_data"
    }
   ],
   "source": [
    "plt.figure(figsize=(10,7))\n",
    "plt.scatter(group_data['percentage_exercises_workshops_reinforcement'], group_data['final_grade'], label=\"Students without intervention\", c=\"blue\", s=40, marker=\"o\")\n",
    "# Intervened students\n",
    "x = [88, 44, 33, 0, 100, 0, 100, 100, 100]\n",
    "y =[3.1, 3.1, 2.3, 2.3, 3.1, 3.5, 3.0, 3.8, 3.0]\n",
    "plt.scatter(x, y, label=\"Intervened students\", c=\"red\", s=40, marker=\"o\")\n",
    "# Red line\n",
    "x = [0, 10, 20, 30, 50, 50, 60, 70, 80, 90, 100]\n",
    "y = [3, 3, 3, 3, 3, 3, 3, 3, 3, 3, 3]\n",
    "plt.plot(x, y, linestyle=\"--\", c=\"green\")\n",
    "plt.xlabel(\"% Reinforcement Exercises Submitted\")\n",
    "plt.xticks(range(0, 110, 10))\n",
    "plt.ylabel(\"Final Grade\")\n",
    "yrange = [0.0, 0.5, 1.0, 1.5, 2.0, 2.5, 3.0, 3.5, 4.0, 4.5, 5.0]\n",
    "plt.yticks(yrange)\n",
    "# Legend\n",
    "plt.legend(loc = \"lower right\")\n",
    "plt.grid()\n",
    "#plt.savefig('Fig5.png', bbox_inches='tight', dpi=400)\n",
    "plt.show()\n"
   ]
  },
  {
   "attachments": {},
   "cell_type": "markdown",
   "metadata": {},
   "source": [
    "## -------------------------------------------------------------\n",
    "\n",
    "## Data of students intervened"
   ]
  },
  {
   "attachments": {},
   "cell_type": "markdown",
   "metadata": {},
   "source": [
    "#### Upload data"
   ]
  },
  {
   "cell_type": "code",
   "execution_count": 11,
   "metadata": {},
   "outputs": [
    {
     "data": {
      "text/html": [
       "<div>\n",
       "<style scoped>\n",
       "    .dataframe tbody tr th:only-of-type {\n",
       "        vertical-align: middle;\n",
       "    }\n",
       "\n",
       "    .dataframe tbody tr th {\n",
       "        vertical-align: top;\n",
       "    }\n",
       "\n",
       "    .dataframe thead th {\n",
       "        text-align: right;\n",
       "    }\n",
       "</style>\n",
       "<table border=\"1\" class=\"dataframe\">\n",
       "  <thead>\n",
       "    <tr style=\"text-align: right;\">\n",
       "      <th></th>\n",
       "      <th>students</th>\n",
       "      <th>final_grade</th>\n",
       "      <th>quantity_suggestion_recommendation</th>\n",
       "      <th>quantity_code_reference</th>\n",
       "      <th>percentage_attendance_group_tutoring</th>\n",
       "      <th>percentage_exercises_workshop_reinforcement_1</th>\n",
       "      <th>percentage_exercises_workshop_reinforcement_2</th>\n",
       "      <th>percentage_exercises_workshops_reinforcement</th>\n",
       "    </tr>\n",
       "  </thead>\n",
       "  <tbody>\n",
       "    <tr>\n",
       "      <th>0</th>\n",
       "      <td>S1</td>\n",
       "      <td>3.1</td>\n",
       "      <td>4</td>\n",
       "      <td>3</td>\n",
       "      <td>54</td>\n",
       "      <td>100</td>\n",
       "      <td>83</td>\n",
       "      <td>89</td>\n",
       "    </tr>\n",
       "    <tr>\n",
       "      <th>1</th>\n",
       "      <td>S2</td>\n",
       "      <td>3.1</td>\n",
       "      <td>4</td>\n",
       "      <td>3</td>\n",
       "      <td>18</td>\n",
       "      <td>67</td>\n",
       "      <td>33</td>\n",
       "      <td>44</td>\n",
       "    </tr>\n",
       "    <tr>\n",
       "      <th>2</th>\n",
       "      <td>S3</td>\n",
       "      <td>2.3</td>\n",
       "      <td>4</td>\n",
       "      <td>3</td>\n",
       "      <td>18</td>\n",
       "      <td>67</td>\n",
       "      <td>17</td>\n",
       "      <td>33</td>\n",
       "    </tr>\n",
       "    <tr>\n",
       "      <th>3</th>\n",
       "      <td>S4</td>\n",
       "      <td>2.3</td>\n",
       "      <td>4</td>\n",
       "      <td>3</td>\n",
       "      <td>0</td>\n",
       "      <td>0</td>\n",
       "      <td>0</td>\n",
       "      <td>0</td>\n",
       "    </tr>\n",
       "    <tr>\n",
       "      <th>4</th>\n",
       "      <td>S5</td>\n",
       "      <td>3.1</td>\n",
       "      <td>4</td>\n",
       "      <td>3</td>\n",
       "      <td>36</td>\n",
       "      <td>100</td>\n",
       "      <td>100</td>\n",
       "      <td>100</td>\n",
       "    </tr>\n",
       "    <tr>\n",
       "      <th>5</th>\n",
       "      <td>S6</td>\n",
       "      <td>3.5</td>\n",
       "      <td>4</td>\n",
       "      <td>3</td>\n",
       "      <td>27</td>\n",
       "      <td>0</td>\n",
       "      <td>0</td>\n",
       "      <td>0</td>\n",
       "    </tr>\n",
       "    <tr>\n",
       "      <th>6</th>\n",
       "      <td>S7</td>\n",
       "      <td>3.0</td>\n",
       "      <td>4</td>\n",
       "      <td>3</td>\n",
       "      <td>18</td>\n",
       "      <td>100</td>\n",
       "      <td>100</td>\n",
       "      <td>100</td>\n",
       "    </tr>\n",
       "    <tr>\n",
       "      <th>7</th>\n",
       "      <td>S8</td>\n",
       "      <td>3.8</td>\n",
       "      <td>4</td>\n",
       "      <td>3</td>\n",
       "      <td>63</td>\n",
       "      <td>100</td>\n",
       "      <td>100</td>\n",
       "      <td>100</td>\n",
       "    </tr>\n",
       "    <tr>\n",
       "      <th>8</th>\n",
       "      <td>S9</td>\n",
       "      <td>3.0</td>\n",
       "      <td>4</td>\n",
       "      <td>3</td>\n",
       "      <td>18</td>\n",
       "      <td>100</td>\n",
       "      <td>100</td>\n",
       "      <td>100</td>\n",
       "    </tr>\n",
       "  </tbody>\n",
       "</table>\n",
       "</div>"
      ],
      "text/plain": [
       "  students  final_grade  quantity_suggestion_recommendation  \\\n",
       "0       S1          3.1                                   4   \n",
       "1       S2          3.1                                   4   \n",
       "2       S3          2.3                                   4   \n",
       "3       S4          2.3                                   4   \n",
       "4       S5          3.1                                   4   \n",
       "5       S6          3.5                                   4   \n",
       "6       S7          3.0                                   4   \n",
       "7       S8          3.8                                   4   \n",
       "8       S9          3.0                                   4   \n",
       "\n",
       "   quantity_code_reference  percentage_attendance_group_tutoring  \\\n",
       "0                        3                                    54   \n",
       "1                        3                                    18   \n",
       "2                        3                                    18   \n",
       "3                        3                                     0   \n",
       "4                        3                                    36   \n",
       "5                        3                                    27   \n",
       "6                        3                                    18   \n",
       "7                        3                                    63   \n",
       "8                        3                                    18   \n",
       "\n",
       "   percentage_exercises_workshop_reinforcement_1  \\\n",
       "0                                            100   \n",
       "1                                             67   \n",
       "2                                             67   \n",
       "3                                              0   \n",
       "4                                            100   \n",
       "5                                              0   \n",
       "6                                            100   \n",
       "7                                            100   \n",
       "8                                            100   \n",
       "\n",
       "   percentage_exercises_workshop_reinforcement_2  \\\n",
       "0                                             83   \n",
       "1                                             33   \n",
       "2                                             17   \n",
       "3                                              0   \n",
       "4                                            100   \n",
       "5                                              0   \n",
       "6                                            100   \n",
       "7                                            100   \n",
       "8                                            100   \n",
       "\n",
       "   percentage_exercises_workshops_reinforcement  \n",
       "0                                            89  \n",
       "1                                            44  \n",
       "2                                            33  \n",
       "3                                             0  \n",
       "4                                           100  \n",
       "5                                             0  \n",
       "6                                           100  \n",
       "7                                           100  \n",
       "8                                           100  "
      ]
     },
     "execution_count": 11,
     "metadata": {},
     "output_type": "execute_result"
    }
   ],
   "source": [
    "data = pd.read_csv('data/data_intervened_students.csv', sep=\";\")\n",
    "\n",
    "data"
   ]
  },
  {
   "attachments": {},
   "cell_type": "markdown",
   "metadata": {},
   "source": [
    "#### Columns are removed from the DataFrame"
   ]
  },
  {
   "cell_type": "code",
   "execution_count": 12,
   "metadata": {},
   "outputs": [
    {
     "data": {
      "text/html": [
       "<div>\n",
       "<style scoped>\n",
       "    .dataframe tbody tr th:only-of-type {\n",
       "        vertical-align: middle;\n",
       "    }\n",
       "\n",
       "    .dataframe tbody tr th {\n",
       "        vertical-align: top;\n",
       "    }\n",
       "\n",
       "    .dataframe thead th {\n",
       "        text-align: right;\n",
       "    }\n",
       "</style>\n",
       "<table border=\"1\" class=\"dataframe\">\n",
       "  <thead>\n",
       "    <tr style=\"text-align: right;\">\n",
       "      <th></th>\n",
       "      <th>students</th>\n",
       "      <th>final_grade</th>\n",
       "      <th>percentage_attendance_group_tutoring</th>\n",
       "      <th>percentage_exercises_workshop_reinforcement_1</th>\n",
       "      <th>percentage_exercises_workshop_reinforcement_2</th>\n",
       "      <th>percentage_exercises_workshops_reinforcement</th>\n",
       "    </tr>\n",
       "  </thead>\n",
       "  <tbody>\n",
       "    <tr>\n",
       "      <th>0</th>\n",
       "      <td>S1</td>\n",
       "      <td>3.1</td>\n",
       "      <td>54</td>\n",
       "      <td>100</td>\n",
       "      <td>83</td>\n",
       "      <td>89</td>\n",
       "    </tr>\n",
       "    <tr>\n",
       "      <th>1</th>\n",
       "      <td>S2</td>\n",
       "      <td>3.1</td>\n",
       "      <td>18</td>\n",
       "      <td>67</td>\n",
       "      <td>33</td>\n",
       "      <td>44</td>\n",
       "    </tr>\n",
       "    <tr>\n",
       "      <th>2</th>\n",
       "      <td>S3</td>\n",
       "      <td>2.3</td>\n",
       "      <td>18</td>\n",
       "      <td>67</td>\n",
       "      <td>17</td>\n",
       "      <td>33</td>\n",
       "    </tr>\n",
       "    <tr>\n",
       "      <th>3</th>\n",
       "      <td>S4</td>\n",
       "      <td>2.3</td>\n",
       "      <td>0</td>\n",
       "      <td>0</td>\n",
       "      <td>0</td>\n",
       "      <td>0</td>\n",
       "    </tr>\n",
       "    <tr>\n",
       "      <th>4</th>\n",
       "      <td>S5</td>\n",
       "      <td>3.1</td>\n",
       "      <td>36</td>\n",
       "      <td>100</td>\n",
       "      <td>100</td>\n",
       "      <td>100</td>\n",
       "    </tr>\n",
       "    <tr>\n",
       "      <th>5</th>\n",
       "      <td>S6</td>\n",
       "      <td>3.5</td>\n",
       "      <td>27</td>\n",
       "      <td>0</td>\n",
       "      <td>0</td>\n",
       "      <td>0</td>\n",
       "    </tr>\n",
       "    <tr>\n",
       "      <th>6</th>\n",
       "      <td>S7</td>\n",
       "      <td>3.0</td>\n",
       "      <td>18</td>\n",
       "      <td>100</td>\n",
       "      <td>100</td>\n",
       "      <td>100</td>\n",
       "    </tr>\n",
       "    <tr>\n",
       "      <th>7</th>\n",
       "      <td>S8</td>\n",
       "      <td>3.8</td>\n",
       "      <td>63</td>\n",
       "      <td>100</td>\n",
       "      <td>100</td>\n",
       "      <td>100</td>\n",
       "    </tr>\n",
       "    <tr>\n",
       "      <th>8</th>\n",
       "      <td>S9</td>\n",
       "      <td>3.0</td>\n",
       "      <td>18</td>\n",
       "      <td>100</td>\n",
       "      <td>100</td>\n",
       "      <td>100</td>\n",
       "    </tr>\n",
       "  </tbody>\n",
       "</table>\n",
       "</div>"
      ],
      "text/plain": [
       "  students  final_grade  percentage_attendance_group_tutoring  \\\n",
       "0       S1          3.1                                    54   \n",
       "1       S2          3.1                                    18   \n",
       "2       S3          2.3                                    18   \n",
       "3       S4          2.3                                     0   \n",
       "4       S5          3.1                                    36   \n",
       "5       S6          3.5                                    27   \n",
       "6       S7          3.0                                    18   \n",
       "7       S8          3.8                                    63   \n",
       "8       S9          3.0                                    18   \n",
       "\n",
       "   percentage_exercises_workshop_reinforcement_1  \\\n",
       "0                                            100   \n",
       "1                                             67   \n",
       "2                                             67   \n",
       "3                                              0   \n",
       "4                                            100   \n",
       "5                                              0   \n",
       "6                                            100   \n",
       "7                                            100   \n",
       "8                                            100   \n",
       "\n",
       "   percentage_exercises_workshop_reinforcement_2  \\\n",
       "0                                             83   \n",
       "1                                             33   \n",
       "2                                             17   \n",
       "3                                              0   \n",
       "4                                            100   \n",
       "5                                              0   \n",
       "6                                            100   \n",
       "7                                            100   \n",
       "8                                            100   \n",
       "\n",
       "   percentage_exercises_workshops_reinforcement  \n",
       "0                                            89  \n",
       "1                                            44  \n",
       "2                                            33  \n",
       "3                                             0  \n",
       "4                                           100  \n",
       "5                                             0  \n",
       "6                                           100  \n",
       "7                                           100  \n",
       "8                                           100  "
      ]
     },
     "execution_count": 12,
     "metadata": {},
     "output_type": "execute_result"
    }
   ],
   "source": [
    "# The columns: quantity_suggestion_recommendation and quantity_code_reference are removed from the DataFrame.\n",
    "data = data.drop(['quantity_suggestion_recommendation'], axis=1)\n",
    "data = data.drop(['quantity_code_reference'], axis = 1)\n",
    "\n",
    "data"
   ]
  },
  {
   "attachments": {},
   "cell_type": "markdown",
   "metadata": {},
   "source": [
    "#### Correlation of all variables for intervened students."
   ]
  },
  {
   "cell_type": "code",
   "execution_count": 13,
   "metadata": {},
   "outputs": [
    {
     "data": {
      "text/html": [
       "<div>\n",
       "<style scoped>\n",
       "    .dataframe tbody tr th:only-of-type {\n",
       "        vertical-align: middle;\n",
       "    }\n",
       "\n",
       "    .dataframe tbody tr th {\n",
       "        vertical-align: top;\n",
       "    }\n",
       "\n",
       "    .dataframe thead th {\n",
       "        text-align: right;\n",
       "    }\n",
       "</style>\n",
       "<table border=\"1\" class=\"dataframe\">\n",
       "  <thead>\n",
       "    <tr style=\"text-align: right;\">\n",
       "      <th></th>\n",
       "      <th>final_grade</th>\n",
       "      <th>percentage_attendance_group_tutoring</th>\n",
       "      <th>percentage_exercises_workshop_reinforcement_1</th>\n",
       "      <th>percentage_exercises_workshop_reinforcement_2</th>\n",
       "      <th>percentage_exercises_workshops_reinforcement</th>\n",
       "    </tr>\n",
       "  </thead>\n",
       "  <tbody>\n",
       "    <tr>\n",
       "      <th>final_grade</th>\n",
       "      <td>1.000000</td>\n",
       "      <td>0.826025</td>\n",
       "      <td>0.217602</td>\n",
       "      <td>0.228757</td>\n",
       "      <td>0.228757</td>\n",
       "    </tr>\n",
       "    <tr>\n",
       "      <th>percentage_attendance_group_tutoring</th>\n",
       "      <td>0.826025</td>\n",
       "      <td>1.000000</td>\n",
       "      <td>0.520097</td>\n",
       "      <td>0.410963</td>\n",
       "      <td>0.410963</td>\n",
       "    </tr>\n",
       "    <tr>\n",
       "      <th>percentage_exercises_workshop_reinforcement_1</th>\n",
       "      <td>0.217602</td>\n",
       "      <td>0.520097</td>\n",
       "      <td>1.000000</td>\n",
       "      <td>0.948200</td>\n",
       "      <td>0.948200</td>\n",
       "    </tr>\n",
       "    <tr>\n",
       "      <th>percentage_exercises_workshop_reinforcement_2</th>\n",
       "      <td>0.228757</td>\n",
       "      <td>0.410963</td>\n",
       "      <td>0.948200</td>\n",
       "      <td>1.000000</td>\n",
       "      <td>1.000000</td>\n",
       "    </tr>\n",
       "    <tr>\n",
       "      <th>percentage_exercises_workshops_reinforcement</th>\n",
       "      <td>0.228757</td>\n",
       "      <td>0.410963</td>\n",
       "      <td>0.948200</td>\n",
       "      <td>1.000000</td>\n",
       "      <td>1.000000</td>\n",
       "    </tr>\n",
       "  </tbody>\n",
       "</table>\n",
       "</div>"
      ],
      "text/plain": [
       "                                               final_grade  \\\n",
       "final_grade                                       1.000000   \n",
       "percentage_attendance_group_tutoring              0.826025   \n",
       "percentage_exercises_workshop_reinforcement_1     0.217602   \n",
       "percentage_exercises_workshop_reinforcement_2     0.228757   \n",
       "percentage_exercises_workshops_reinforcement      0.228757   \n",
       "\n",
       "                                               percentage_attendance_group_tutoring  \\\n",
       "final_grade                                                                0.826025   \n",
       "percentage_attendance_group_tutoring                                       1.000000   \n",
       "percentage_exercises_workshop_reinforcement_1                              0.520097   \n",
       "percentage_exercises_workshop_reinforcement_2                              0.410963   \n",
       "percentage_exercises_workshops_reinforcement                               0.410963   \n",
       "\n",
       "                                               percentage_exercises_workshop_reinforcement_1  \\\n",
       "final_grade                                                                         0.217602   \n",
       "percentage_attendance_group_tutoring                                                0.520097   \n",
       "percentage_exercises_workshop_reinforcement_1                                       1.000000   \n",
       "percentage_exercises_workshop_reinforcement_2                                       0.948200   \n",
       "percentage_exercises_workshops_reinforcement                                        0.948200   \n",
       "\n",
       "                                               percentage_exercises_workshop_reinforcement_2  \\\n",
       "final_grade                                                                         0.228757   \n",
       "percentage_attendance_group_tutoring                                                0.410963   \n",
       "percentage_exercises_workshop_reinforcement_1                                       0.948200   \n",
       "percentage_exercises_workshop_reinforcement_2                                       1.000000   \n",
       "percentage_exercises_workshops_reinforcement                                        1.000000   \n",
       "\n",
       "                                               percentage_exercises_workshops_reinforcement  \n",
       "final_grade                                                                        0.228757  \n",
       "percentage_attendance_group_tutoring                                               0.410963  \n",
       "percentage_exercises_workshop_reinforcement_1                                      0.948200  \n",
       "percentage_exercises_workshop_reinforcement_2                                      1.000000  \n",
       "percentage_exercises_workshops_reinforcement                                       1.000000  "
      ]
     },
     "execution_count": 13,
     "metadata": {},
     "output_type": "execute_result"
    }
   ],
   "source": [
    "# Spearman's correlation is calculated\n",
    "data.corr(method='spearman')"
   ]
  },
  {
   "cell_type": "code",
   "execution_count": 14,
   "metadata": {},
   "outputs": [
    {
     "data": {
      "text/plain": [
       "<matplotlib.image.AxesImage at 0x7ff2786e1970>"
      ]
     },
     "execution_count": 14,
     "metadata": {},
     "output_type": "execute_result"
    },
    {
     "data": {
      "image/png": "[encoded data removed]",
      "text/plain": [
       "<Figure size 288x288 with 1 Axes>"
      ]
     },
     "metadata": {
      "needs_background": "light"
     },
     "output_type": "display_data"
    }
   ],
   "source": [
    "# Correlation graph\n",
    "plt.matshow(data.corr())"
   ]
  },
  {
   "attachments": {},
   "cell_type": "markdown",
   "metadata": {},
   "source": [
    "#### Correlation and statistical significance: final grade VS percentage attendance group tutoring (only intervened students)."
   ]
  },
  {
   "cell_type": "code",
   "execution_count": 15,
   "metadata": {},
   "outputs": [
    {
     "name": "stdout",
     "output_type": "stream",
     "text": [
      "Pearson: r=0.7311810246710834, p-value=0.025196486270287977\n",
      "Spearman: r=0.8260245679892639, p-value=0.00607305509315826\n",
      "Kendall: r=0.7214084193623483, p-value=0.013044146925385613\n"
     ]
    }
   ],
   "source": [
    "# # The correlation is calculated between: final_grade VS percentage_attendance_group_tutoring\n",
    "# ==============================================================================\n",
    "r, p = stats.pearsonr(data['final_grade'], data['percentage_attendance_group_tutoring'])\n",
    "print(f\"Pearson: r={r}, p-value={p}\")\n",
    "\n",
    "r, p = stats.spearmanr(data['final_grade'], data['percentage_attendance_group_tutoring'])\n",
    "print(f\"Spearman: r={r}, p-value={p}\")\n",
    "\n",
    "r, p = stats.kendalltau(data['final_grade'], data['percentage_attendance_group_tutoring'])\n",
    "print(f\"Kendall: r={r}, p-value={p}\")"
   ]
  },
  {
   "attachments": {},
   "cell_type": "markdown",
   "metadata": {},
   "source": [
    "#### Correlation graph: final grade VS percentage of attendance to group tutoring (only intervened students)"
   ]
  },
  {
   "cell_type": "code",
   "execution_count": 16,
   "metadata": {},
   "outputs": [
    {
     "data": {
      "image/png": "[encoded data removed]",
      "text/plain": [
       "<Figure size 720x504 with 1 Axes>"
      ]
     },
     "metadata": {
      "needs_background": "light"
     },
     "output_type": "display_data"
    }
   ],
   "source": [
    "# Graph of points: final_grade VS percentage_attendance_group_tutoring\n",
    "plt.figure(figsize=(10,7))\n",
    "plt.scatter(data['final_grade'], data['percentage_attendance_group_tutoring'], c=\"blue\", s=40, marker=\"o\")\n",
    "plt.xlabel(\"Final Grade\")\n",
    "plt.ylabel(\"Percentage Attendance Group Tutoring\")\n",
    "plt.grid()\n",
    "plt.show()"
   ]
  },
  {
   "attachments": {},
   "cell_type": "markdown",
   "metadata": {},
   "source": [
    "#### ------------------------------------------------------------\n",
    "\n",
    "#### Correlation and statistical significance: final_grade VS percentage_exercises_workshop_reinforcement_1 (intervened students only)"
   ]
  },
  {
   "cell_type": "code",
   "execution_count": 17,
   "metadata": {},
   "outputs": [
    {
     "name": "stdout",
     "output_type": "stream",
     "text": [
      "Pearson: r=0.2774848672576353, p-value=0.4697389067364503\n",
      "Spearman: r=0.21760174437497148, p-value=0.5738266245637574\n",
      "Kendall: r=0.18330889377669166, p-value=0.5484148091664384\n"
     ]
    }
   ],
   "source": [
    "# The correlation is calculated between: final_grade VS percentage_exercises_workshop_reinforcement_1\n",
    "# ==============================================================================\n",
    "r, p = stats.pearsonr(data['final_grade'], data['percentage_exercises_workshop_reinforcement_1'])\n",
    "print(f\"Pearson: r={r}, p-value={p}\")\n",
    "\n",
    "r, p = stats.spearmanr(data['final_grade'], data['percentage_exercises_workshop_reinforcement_1'])\n",
    "print(f\"Spearman: r={r}, p-value={p}\")\n",
    "\n",
    "r, p = stats.kendalltau(data['final_grade'], data['percentage_exercises_workshop_reinforcement_1'])\n",
    "print(f\"Kendall: r={r}, p-value={p}\")"
   ]
  },
  {
   "attachments": {},
   "cell_type": "markdown",
   "metadata": {},
   "source": [
    "#### Correlation graph: final_grade VS percentage_exercises_workshop_reinforcement_1 (only students who have undergone the intervention)"
   ]
  },
  {
   "cell_type": "code",
   "execution_count": 18,
   "metadata": {},
   "outputs": [
    {
     "data": {
      "image/png": "[encoded data removed]",
      "text/plain": [
       "<Figure size 720x504 with 1 Axes>"
      ]
     },
     "metadata": {
      "needs_background": "light"
     },
     "output_type": "display_data"
    }
   ],
   "source": [
    "# Graph of points: final grade VS percentage of group tutoring attendance\n",
    "plt.figure(figsize=(10,7))\n",
    "plt.scatter(data['final_grade'], data['percentage_exercises_workshop_reinforcement_1'], c=\"blue\", s=40, marker=\"o\")\n",
    "plt.xlabel(\"Final Grade\")\n",
    "plt.ylabel(\"Percentage Exercises Workshop Reinforcement 1\")\n",
    "plt.grid()\n",
    "plt.show()"
   ]
  },
  {
   "attachments": {},
   "cell_type": "markdown",
   "metadata": {},
   "source": [
    "#### ------------------------------------------------------------\n",
    "\n",
    "#### Correlation and statistical significance: final_grade VS percentage_exercises_workshop_reinforcement_2 (intervened students only)"
   ]
  },
  {
   "cell_type": "code",
   "execution_count": 19,
   "metadata": {},
   "outputs": [
    {
     "name": "stdout",
     "output_type": "stream",
     "text": [
      "Pearson: r=0.4375653141346151, p-value=0.23885560543074305\n",
      "Spearman: r=0.22875705971802346, p-value=0.5538266613710534\n",
      "Kendall: r=0.16675933649126753, p-value=0.5704848275345603\n"
     ]
    }
   ],
   "source": [
    "# The correlation is calculated between: final_grade VS percentage_exercises_workshop_reinforcement_2\n",
    "# ==============================================================================\n",
    "r, p = stats.pearsonr(data['final_grade'], data['percentage_exercises_workshop_reinforcement_2'])\n",
    "print(f\"Pearson: r={r}, p-value={p}\")\n",
    "\n",
    "r, p = stats.spearmanr(data['final_grade'], data['percentage_exercises_workshop_reinforcement_2'])\n",
    "print(f\"Spearman: r={r}, p-value={p}\")\n",
    "\n",
    "r, p = stats.kendalltau(data['final_grade'], data['percentage_exercises_workshop_reinforcement_2'])\n",
    "print(f\"Kendall: r={r}, p-value={p}\")"
   ]
  },
  {
   "attachments": {},
   "cell_type": "markdown",
   "metadata": {},
   "source": [
    "#### Correlation graph: final grade VS percentage of reinforcement workshop 2 exercises (only intervened students)"
   ]
  },
  {
   "cell_type": "code",
   "execution_count": 20,
   "metadata": {},
   "outputs": [
    {
     "data": {
      "image/png": "[encoded data removed]",
      "text/plain": [
       "<Figure size 720x504 with 1 Axes>"
      ]
     },
     "metadata": {
      "needs_background": "light"
     },
     "output_type": "display_data"
    }
   ],
   "source": [
    "# Graph of points: final_grade VS percentage_exercises_workshop_reinforcement_2\n",
    "plt.figure(figsize=(10,7))\n",
    "plt.scatter(data['final_grade'], data['percentage_exercises_workshop_reinforcement_2'], c=\"blue\", s=40, marker=\"o\")\n",
    "plt.xlabel(\"Final Grade\")\n",
    "plt.ylabel(\"Percentage Exercises Workshop Reinforcement 2\")\n",
    "plt.grid()\n",
    "plt.show()"
   ]
  },
  {
   "attachments": {},
   "cell_type": "markdown",
   "metadata": {},
   "source": [
    "#### ------------------------------------------------------------\n",
    "\n",
    "#### Correlation and statistical significance: final_grade VS percentage_exercises_workshops_reinforcement (only intervened students)."
   ]
  },
  {
   "cell_type": "code",
   "execution_count": 21,
   "metadata": {},
   "outputs": [
    {
     "name": "stdout",
     "output_type": "stream",
     "text": [
      "Pearson: r=0.3964189581186092, p-value=0.2908429688969501\n",
      "Spearman: r=0.22875705971802346, p-value=0.5538266613710534\n",
      "Kendall: r=0.16675933649126753, p-value=0.5704848275345603\n"
     ]
    }
   ],
   "source": [
    "# The correlation is calculated between: final grade VS percentage of reinforcement workshop exercises 1 and 2.\n",
    "# ==============================================================================\n",
    "r, p = stats.pearsonr(data['final_grade'], data['percentage_exercises_workshops_reinforcement'])\n",
    "print(f\"Pearson: r={r}, p-value={p}\")\n",
    "\n",
    "r, p = stats.spearmanr(data['final_grade'], data['percentage_exercises_workshops_reinforcement'])\n",
    "print(f\"Spearman: r={r}, p-value={p}\")\n",
    "\n",
    "r, p = stats.kendalltau(data['final_grade'], data['percentage_exercises_workshops_reinforcement'])\n",
    "print(f\"Kendall: r={r}, p-value={p}\")"
   ]
  },
  {
   "attachments": {},
   "cell_type": "markdown",
   "metadata": {},
   "source": [
    "#### Correlation graph: final grade VS percentage of reinforcement workshop exercises 1 and 2 (only intervened students)"
   ]
  },
  {
   "cell_type": "code",
   "execution_count": 22,
   "metadata": {},
   "outputs": [
    {
     "data": {
      "image/png": "[encoded data removed]",
      "text/plain": [
       "<Figure size 720x504 with 1 Axes>"
      ]
     },
     "metadata": {
      "needs_background": "light"
     },
     "output_type": "display_data"
    }
   ],
   "source": [
    "# Graph of points: final_grade VS percentage_exercises_workshops_reinforcement\n",
    "plt.figure(figsize=(10,7))\n",
    "plt.scatter(data['final_grade'], data['percentage_exercises_workshops_reinforcement'], c=\"blue\", s=40, marker=\"o\")\n",
    "plt.xlabel(\"Final Grade\")\n",
    "plt.ylabel(\"Percentage Exercises Workshops Reinforcement\")\n",
    "plt.grid()\n",
    "plt.show()"
   ]
  }
 ],
 "metadata": {
  "kernelspec": {
   "display_name": "Python 3",
   "language": "python",
   "name": "python3"
  },
  "language_info": {
   "codemirror_mode": {
    "name": "ipython",
    "version": 3
   },
   "file_extension": ".py",
   "mimetype": "text/x-python",
   "name": "python",
   "nbconvert_exporter": "python",
   "pygments_lexer": "ipython3",
   "version": "3.9.13"
  },
  "orig_nbformat": 4
 },
 "nbformat": 4,
 "nbformat_minor": 2
}
